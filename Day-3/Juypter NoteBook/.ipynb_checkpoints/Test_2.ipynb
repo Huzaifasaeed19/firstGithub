{
 "cells": [
  {
   "attachments": {},
   "cell_type": "markdown",
   "metadata": {},
   "source": [
    "# Learning Python With Baba Ammar\n",
    "## Basic of Python\n",
    "### *01- First Program*"
   ]
  },
  {
   "cell_type": "code",
   "execution_count": 17,
   "metadata": {},
   "outputs": [
    {
     "name": "stdout",
     "output_type": "stream",
     "text": [
      "Hello Worlds\n"
     ]
    }
   ],
   "source": [
    "print(\"Hello Worlds\")"
   ]
  },
  {
   "attachments": {},
   "cell_type": "markdown",
   "metadata": {},
   "source": [
    "### *02- Operator*"
   ]
  },
  {
   "cell_type": "code",
   "execution_count": 18,
   "metadata": {},
   "outputs": [
    {
     "name": "stdout",
     "output_type": "stream",
     "text": [
      "5\n",
      "0\n",
      "3.0\n",
      "6\n",
      "1\n",
      "3\n",
      "8\n",
      "6.5\n"
     ]
    }
   ],
   "source": [
    "print(2+3)\n",
    "print(3-3)\n",
    "print(6/2)\n",
    "print(2*3)\n",
    "print(13%2)\n",
    "print(6//2)\n",
    "\n",
    "print(2**3)\n",
    "\n",
    "print(3**2/2*3/3+6-4)"
   ]
  },
  {
   "attachments": {},
   "cell_type": "markdown",
   "metadata": {},
   "source": [
    "PEMDAS = Parenthesis Exponent  Multiplication Division Addition Subtraction.\n",
    "Left to Right"
   ]
  },
  {
   "attachments": {},
   "cell_type": "markdown",
   "metadata": {},
   "source": [
    "### *03- String*"
   ]
  },
  {
   "cell_type": "code",
   "execution_count": 19,
   "metadata": {},
   "outputs": [
    {
     "name": "stdout",
     "output_type": "stream",
     "text": [
      "Hellow World\n",
      "We are Learning Python \n",
      "Test for Single quotes\n",
      "test for Double quotes\n",
      " test for Triple quotes\n",
      "What's Up?\n"
     ]
    }
   ],
   "source": [
    "print(\"Hellow World\")\n",
    "print(\"We are Learning Python \")\n",
    "\n",
    "print('Test for Single quotes')\n",
    "print(\"test for Double quotes\")\n",
    "print(''' test for Triple quotes''')\n",
    "\n",
    "print(\"What's Up?\")\n",
    "#Strings Clear"
   ]
  },
  {
   "attachments": {},
   "cell_type": "markdown",
   "metadata": {},
   "source": [
    "### *04- Comments*"
   ]
  },
  {
   "cell_type": "code",
   "execution_count": 20,
   "metadata": {},
   "outputs": [
    {
     "name": "stdout",
     "output_type": "stream",
     "text": [
      "8\n"
     ]
    }
   ],
   "source": [
    "# print(\"How are you ?\")\n",
    "# print(\"We are Learning Python with baba Ammar\")\n",
    "\n",
    "print(2+6)"
   ]
  },
  {
   "attachments": {},
   "cell_type": "markdown",
   "metadata": {},
   "source": [
    "### *05- Variable*"
   ]
  },
  {
   "cell_type": "code",
   "execution_count": 21,
   "metadata": {},
   "outputs": [
    {
     "name": "stdout",
     "output_type": "stream",
     "text": [
      "5\n",
      "We are Learning Data Science\n",
      "15\n",
      "<class 'int'>\n",
      "<class 'str'>\n",
      "<class 'int'>\n"
     ]
    }
   ],
   "source": [
    "#Variable: Objects containing values\n",
    "x=5 #numeric or integer variable\n",
    "print(x)\n",
    "\n",
    "y=\"We are Learning Data Science\" #string varible\n",
    "print(y)\n",
    "\n",
    "x=15\n",
    "print(x)\n",
    "print(type(x))\n",
    "\n",
    "print(type(y))\n",
    "\n",
    "fruit_basket=8\n",
    "print(type(fruit_basket))\n",
    "\n",
    "\n",
    "fruit_basket=\"Mangoes\"\n",
    "del fruit_basket\n",
    "\n",
    "#print(type(fruit_basket))"
   ]
  },
  {
   "attachments": {},
   "cell_type": "markdown",
   "metadata": {},
   "source": [
    "\n",
    "print_type_class\n",
    "\n",
    "Rules for defining variables\n",
    "1. The variable should contains letter, numbers or underscores.\n",
    "2. Do not start with numbers\n",
    "3. Spaces are not allowed \n",
    "4. Do not use Keywords used in functions (break, mean, media, test, etc).\n",
    "5. Short and Descriptive\n",
    "6. Case Sensitivity (Lowercase, uppercase letters and lowercase letters should be used)\n"
   ]
  },
  {
   "attachments": {},
   "cell_type": "markdown",
   "metadata": {},
   "source": [
    "### *06- Input Variable*"
   ]
  },
  {
   "cell_type": "code",
   "execution_count": 22,
   "metadata": {},
   "outputs": [
    {
     "name": "stdout",
     "output_type": "stream",
     "text": [
      "Hellow!  , you are still young\n"
     ]
    }
   ],
   "source": [
    "# fruit_basket=\"Mangoes\"\n",
    "# print(fruit_basket)\n",
    "\n",
    "# Input function\n",
    "\n",
    "# fruit_basket=input(\"What is your Favourite Fruit: \")\n",
    "\n",
    "# print(fruit_basket)\n",
    "\n",
    "#input function type 2\n",
    "\n",
    "# name= input(\"What is your name: \")\n",
    "# greetings=\"Hello!\"\n",
    "# print(greetings, name)\n",
    "\n",
    "\n",
    "#another way of input function type 2\n",
    "\n",
    "# name= input(\"What is your name: \")\n",
    "# print(\"Hellow!\", name)\n",
    "\n",
    "# 3rd stage input fucntion\n",
    "\n",
    "name = input(\"What is your name: \")\n",
    "age= input(\"How old are you: \")\n",
    "greetings=\"Hellow!\"\n",
    "\n",
    "print(greetings, name, \", you are still young\")"
   ]
  },
  {
   "attachments": {},
   "cell_type": "markdown",
   "metadata": {},
   "source": [
    "### *07 - Conditional logics*"
   ]
  },
  {
   "cell_type": "code",
   "execution_count": 23,
   "metadata": {},
   "outputs": [
    {
     "name": "stdout",
     "output_type": "stream",
     "text": [
      "False\n"
     ]
    }
   ],
   "source": [
    "# logical operator and true of false , yes or no or \"0\" or \"1\"\n",
    "# equal to                      ==\n",
    "#not equal to                   !=\n",
    "# less than                     <\n",
    "# greater than                  >\n",
    "# less than and equal to        <=\n",
    "# greater than and equal to     >=\n",
    "\n",
    "# is 4 equal to 4 ?\n",
    "\n",
    "# print(4==4)\n",
    "# print(4!=4)\n",
    "# print(4>3)\n",
    "# print(3>6)\n",
    "# print(3<=5)\n",
    "# print(5>=4)\n",
    "\n",
    "#application of logical operators\n",
    "\n",
    "# anas_age=4\n",
    "# age_at_school=5\n",
    "\n",
    "# print(anas_age==age_at_school)\n",
    "\n",
    "#input function and logicals operator\n",
    "\n",
    "anas_age=int(input(\"how old is anas: \"))\n",
    "age_at_school=5\n",
    "# print(type(anas_age))\n",
    "print(anas_age==age_at_school)\n",
    "\n"
   ]
  },
  {
   "attachments": {},
   "cell_type": "markdown",
   "metadata": {},
   "source": [
    "### *08- Type Conversion* "
   ]
  },
  {
   "cell_type": "code",
   "execution_count": 24,
   "metadata": {},
   "outputs": [
    {
     "name": "stdout",
     "output_type": "stream",
     "text": [
      "Anas <class 'str'>\n"
     ]
    }
   ],
   "source": [
    "# x=10                #int\n",
    "# y=10.2              #float\n",
    "# z=\"Hello\"           #str\n",
    "\n",
    "# implicit type conversion\n",
    "\n",
    "# x = x + y\n",
    "\n",
    "# print(x, \"type of x is \", type(y))\n",
    "# print(type(y))\n",
    "# print(type(z))\n",
    "\n",
    "\n",
    "# explicit type conversion\n",
    "# age=input(\"what is your age: \")\n",
    "# print(age , type(str(age)))\n",
    "\n",
    "#name\n",
    "name=input(\"What is your name: \")\n",
    "print(name, type(str(name)))"
   ]
  },
  {
   "attachments": {},
   "cell_type": "markdown",
   "metadata": {},
   "source": [
    "### *09 - if else & elif*"
   ]
  },
  {
   "cell_type": "code",
   "execution_count": 25,
   "metadata": {},
   "outputs": [
    {
     "name": "stdout",
     "output_type": "stream",
     "text": [
      "You should take care of Anas, he is still a baby.\n"
     ]
    }
   ],
   "source": [
    "required_age_at_school =5\n",
    "anas_age=1\n",
    "# can anas go to school?\n",
    "\n",
    "if anas_age == required_age_at_school:\n",
    "    print(\"Anas can join the school!\")\n",
    "elif anas_age > required_age_at_school:\n",
    "    print(\"Anas should join higher secondary school.\")\n",
    "elif anas_age<=2:\n",
    "    print(\"You should take care of Anas, he is still a baby.\")\n",
    "else:\n",
    "    print(\"Anas cannot join the school.\")\n"
   ]
  },
  {
   "attachments": {},
   "cell_type": "markdown",
   "metadata": {},
   "source": [
    "### *10 - Funcitons* "
   ]
  },
  {
   "cell_type": "code",
   "execution_count": 26,
   "metadata": {},
   "outputs": [
    {
     "name": "stdout",
     "output_type": "stream",
     "text": [
      "Your age after 20 years will be :  41\n"
     ]
    }
   ],
   "source": [
    "# defining a function:\n",
    "\n",
    "# def print_statement():\n",
    "#     print(\"I am evolved as a human, HAHHAHAHAHAHAHAHA.......\")\n",
    "\n",
    "# print_statement()\n",
    "\n",
    "#2\n",
    "# def print_statement():\n",
    "#     text=\"I am evolved as a human, HAHHAHAHAHAHAHAHA.......\"\n",
    "#     print(text)\n",
    "#     print(text)\n",
    "#     print(text)\n",
    "\n",
    "# print_statement()\n",
    "\n",
    "\n",
    "#3\n",
    "# def print_statement(text):\n",
    "#     print(text)\n",
    "#     print(text)\n",
    "#     print(text)\n",
    "\n",
    "# print_statement(\"I am evolved as a human, HAHHAHAHAHAHAHAHA.......\")\n",
    "\n",
    "#defining function with if, elif and else statement\n",
    "\n",
    "# def school_cal(age):\n",
    "#     if age==5:\n",
    "#         print(\"Anas can join the school\")\n",
    "#     elif age > 5:\n",
    "#         print(\"Anas should go to higher school\")\n",
    "#     else:\n",
    "#         print(\"Anas is still a baby \")\n",
    "\n",
    "# school_cal(2)\n",
    "\n",
    "\n",
    "#defining a function of future\n",
    "\n",
    "def future_age(age):\n",
    "    new_age=age+20\n",
    "    return new_age\n",
    "\n",
    "future_predicted_age=future_age(21)\n",
    "print(\"Your age after 20 years will be : \",future_predicted_age)"
   ]
  },
  {
   "attachments": {},
   "cell_type": "markdown",
   "metadata": {},
   "source": [
    "### *11- Loops*"
   ]
  },
  {
   "cell_type": "code",
   "execution_count": 27,
   "metadata": {},
   "outputs": [
    {
     "name": "stdout",
     "output_type": "stream",
     "text": [
      "Mon\n",
      "Tues\n",
      "Wed\n",
      "Thurs\n",
      "Sat\n",
      "Sun\n"
     ]
    }
   ],
   "source": [
    "#while loops and for loops \n",
    "\n",
    "#while loops\n",
    "\n",
    "# x=0\n",
    "# while (x<=5):\n",
    "#     print(x)\n",
    "#     x+=1\n",
    "\n",
    "# for loops\n",
    "\n",
    "# for x in range(5,10):\n",
    "#     print(x)\n",
    "\n",
    "#array\n",
    "days=[\"Mon\",\"Tues\",\"Wed\",\"Thurs\",\"Fri\",\"Sat\",\"Sun\"]\n",
    "for d in days:\n",
    "    # if (d==\"Fri\"):break #Loop Stops\n",
    "    if (d==\"Fri\"):continue #Skips d\n",
    "    print(d)\n",
    "        "
   ]
  },
  {
   "attachments": {},
   "cell_type": "markdown",
   "metadata": {},
   "source": [
    "### *12-  import lib* "
   ]
  },
  {
   "cell_type": "code",
   "execution_count": 28,
   "metadata": {},
   "outputs": [
    {
     "name": "stdout",
     "output_type": "stream",
     "text": [
      "The Value of Pi is:  3.141592653589793\n",
      "300\n"
     ]
    }
   ],
   "source": [
    "#if you want to print value of pi\n",
    "import math\n",
    "\n",
    "print(\"The Value of Pi is: \", math.pi)\n",
    "\n",
    "import statistics\n",
    "x=[150,250,350,450]\n",
    "\n",
    "print(int(statistics.median(x)))\n",
    "\n",
    "#numpy , pandas"
   ]
  },
  {
   "attachments": {},
   "cell_type": "markdown",
   "metadata": {},
   "source": [
    "### *13- Troubleshooting*"
   ]
  },
  {
   "cell_type": "code",
   "execution_count": 29,
   "metadata": {},
   "outputs": [
    {
     "name": "stdout",
     "output_type": "stream",
     "text": [
      "Hello! Huzaifa\n"
     ]
    }
   ],
   "source": [
    "# print(\"we are learning Data Science with Ammar\") #syntax error\n",
    "\n",
    "# print(25/0) #runtime error\n",
    "\n",
    "name=\"Huzaifa\"\n",
    "print(\"Hello!\", name)  #symentic error\n",
    "\n"
   ]
  }
 ],
 "metadata": {
  "kernelspec": {
   "display_name": "Python 3",
   "language": "python",
   "name": "python3"
  },
  "language_info": {
   "codemirror_mode": {
    "name": "ipython",
    "version": 3
   },
   "file_extension": ".py",
   "mimetype": "text/x-python",
   "name": "python",
   "nbconvert_exporter": "python",
   "pygments_lexer": "ipython3",
   "version": "3.11.3"
  },
  "orig_nbformat": 4
 },
 "nbformat": 4,
 "nbformat_minor": 2
}
